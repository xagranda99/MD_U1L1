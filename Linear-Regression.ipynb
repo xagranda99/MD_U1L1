{
 "cells": [
  {
   "cell_type": "code",
   "execution_count": null,
   "id": "6d1abf7a",
   "metadata": {
    "ExecuteTime": {
     "end_time": "2022-03-14T15:14:46.228059Z",
     "start_time": "2022-03-14T15:14:46.223108Z"
    }
   },
   "outputs": [],
   "source": [
    "'''Importar las librerias usadas para este algoritmo.'''\n",
    "%matplotlib notebook\n",
    "from sklearn.linear_model import LinearRegression\n",
    "import pandas as pd\n",
    "import numpy as np\n",
    "import matplotlib.pyplot as plt\n",
    "from sklearn.model_selection import train_test_split\n",
    "from sklearn import metrics\n"
   ]
  },
  {
   "cell_type": "code",
   "execution_count": null,
   "id": "a487d34b",
   "metadata": {},
   "outputs": [],
   "source": [
    "'''Carga del dataset con el delimitador punto y coma.'''\n",
    "df = pd.read_csv('Car_Prices_Dataset.csv', sep=';')"
   ]
  },
  {
   "cell_type": "code",
   "execution_count": null,
   "id": "0bfd8bcc",
   "metadata": {},
   "outputs": [],
   "source": [
    "'''Observamos los datos.'''\n",
    "df.sample(10)"
   ]
  },
  {
   "cell_type": "code",
   "execution_count": null,
   "id": "d5d2b2c6",
   "metadata": {},
   "outputs": [],
   "source": [
    "'''Analizamos la forma del dataframe, es decir cuantos datos posee, y cuantas columnas.\n",
    "Para este dataset se tiene un total de 8 caracteristicas y una columna target.'''\n",
    "df.shape"
   ]
  },
  {
   "cell_type": "code",
   "execution_count": null,
   "id": "33f5be2a",
   "metadata": {
    "ExecuteTime": {
     "end_time": "2022-04-25T07:21:39.020596Z",
     "start_time": "2022-04-25T07:21:39.005596Z"
    }
   },
   "outputs": [],
   "source": [
    "'''Analizamos la forma del dataframe, es decir cuantos datos posee, y cuantas columnas.\n",
    "Para este dataset se tiene un total de 8 caracteristicas y una columna target.'''\n",
    "feature_names= ['Age', 'KM', 'Weight', 'HP', 'MetColor', 'CC', 'Doors']\n",
    "target_name=['Price']\n",
    "X = df[feature_names].values\n",
    "y = df[target_name].values"
   ]
  },
  {
   "cell_type": "code",
   "execution_count": null,
   "id": "a2e675b3",
   "metadata": {},
   "outputs": [],
   "source": [
    "'''Observamos las variables creadas.'''\n",
    "print(X,y)"
   ]
  },
  {
   "cell_type": "code",
   "execution_count": null,
   "id": "f8bb53af",
   "metadata": {},
   "outputs": [],
   "source": [
    "'''Estandarización de la data.'''\n",
    "from sklearn.preprocessing import StandardScaler\n",
    "VariablesEntradaScaler=StandardScaler()\n",
    "VariableObjetivoScaler=StandardScaler()"
   ]
  },
  {
   "cell_type": "code",
   "execution_count": null,
   "id": "2b58573b",
   "metadata": {},
   "outputs": [],
   "source": [
    "'''Almacenamiento del objeto de ajuste para referencia posterior.'''\n",
    "VariablesEntradaFit=VariablesEntradaScaler.fit(X)\n",
    "VariableObjetivoFit=VariableObjetivoScaler.fit(y)"
   ]
  },
  {
   "cell_type": "code",
   "execution_count": null,
   "id": "1d37feee",
   "metadata": {},
   "outputs": [],
   "source": [
    "'''Generación de los valores estandarizados de X e y.'''\n",
    "X=VariablesEntradaFit.transform(X)\n",
    "y=VariableObjetivoFit.transform(y)\n",
    "print(X,y)"
   ]
  },
  {
   "cell_type": "code",
   "execution_count": null,
   "id": "960739e3",
   "metadata": {},
   "outputs": [],
   "source": [
    "'''Código que realice la división en entrenamiento y test, de acuerdo con la estretgia de evaluación planeada.'''\n",
    "X_train, X_test, y_train, y_test = train_test_split(X,y, test_size=0.3, random_state=109)"
   ]
  },
  {
   "cell_type": "code",
   "execution_count": null,
   "id": "1bca7a66",
   "metadata": {},
   "outputs": [],
   "source": [
    "'''Definicion del algoritmo a utilizar. Como se habia dicho, se usara el modelo de regresion lineal'''\n",
    "lr_multiple = LinearRegression()"
   ]
  },
  {
   "cell_type": "code",
   "execution_count": null,
   "id": "bd897f52",
   "metadata": {},
   "outputs": [],
   "source": [
    "'''Entrenamiento del modelo usando la función fit de la libreria linear_model.'''\n",
    "lr_multiple.fit(X_train, y_train)"
   ]
  },
  {
   "cell_type": "code",
   "execution_count": null,
   "id": "4d2819d1",
   "metadata": {},
   "outputs": [],
   "source": [
    "'''Usando la funcion predict de la variable lr_multiple se puede predecir los valores con el modelo entrenado.'''\n",
    "y_pred = lr_multiple.predict(X_test)"
   ]
  },
  {
   "cell_type": "code",
   "execution_count": null,
   "id": "77d53733",
   "metadata": {},
   "outputs": [],
   "source": [
    "'''Observamos los datos.'''\n",
    "print(\"Datos de test: \", y_test)\n",
    "print(\"Datos prediccion: \",y_pred)"
   ]
  },
  {
   "cell_type": "code",
   "execution_count": null,
   "id": "3a60067a",
   "metadata": {},
   "outputs": [],
   "source": [
    "'''\n",
    "Para obtener datos del modelo, \n",
    "usaremos la libreria linear_model de sklearn \n",
    "con los datos de prueba y los que predijo \n",
    "el modelo '''\n",
    "\n",
    "print('Valor de las pendientes o coeficientes a1, a2, a3, a4, a5, a6 y a7:')\n",
    "print(lr_multiple.coef_)\n",
    "print('Valor de la intersección o coeficiente b:')\n",
    "print(lr_multiple.intercept_)"
   ]
  },
  {
   "cell_type": "code",
   "execution_count": null,
   "id": "a0cd8b49",
   "metadata": {},
   "outputs": [],
   "source": [
    "'''Obtenemos la precision del modelo con los datos de entrenamiento de X y Y.'''\n",
    "print('Precisión del modelo:', lr_multiple.score(X_train, y_train))"
   ]
  },
  {
   "cell_type": "code",
   "execution_count": null,
   "id": "e3046e49",
   "metadata": {},
   "outputs": [],
   "source": []
  }
 ],
 "metadata": {
  "kernelspec": {
   "display_name": "Python 3 (ipykernel)",
   "language": "python",
   "name": "python3"
  },
  "language_info": {
   "codemirror_mode": {
    "name": "ipython",
    "version": 3
   },
   "file_extension": ".py",
   "mimetype": "text/x-python",
   "name": "python",
   "nbconvert_exporter": "python",
   "pygments_lexer": "ipython3",
   "version": "3.9.12"
  },
  "toc": {
   "base_numbering": 1,
   "nav_menu": {},
   "number_sections": true,
   "sideBar": true,
   "skip_h1_title": true,
   "title_cell": "Tabla de Contenido",
   "title_sidebar": "Contenido",
   "toc_cell": false,
   "toc_position": {
    "height": "calc(100% - 180px)",
    "left": "10px",
    "top": "150px",
    "width": "263.591px"
   },
   "toc_section_display": true,
   "toc_window_display": true
  }
 },
 "nbformat": 4,
 "nbformat_minor": 5
}
