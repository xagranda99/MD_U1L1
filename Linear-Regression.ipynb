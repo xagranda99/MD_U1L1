{
 "cells": [
  {
   "cell_type": "code",
   "execution_count": 3,
   "id": "6d1abf7a",
   "metadata": {
    "ExecuteTime": {
     "end_time": "2022-03-14T15:14:46.228059Z",
     "start_time": "2022-03-14T15:14:46.223108Z"
    }
   },
   "outputs": [],
   "source": [
    "'''Importar las librerias usadas para este algoritmo.'''\n",
    "%matplotlib notebook\n",
    "from sklearn import metrics\n",
    "from scipy import stats\n",
    "import pandas as pd\n",
    "import numpy as np\n",
    "import matplotlib.pyplot as plt\n",
    "from sklearn.model_selection import train_test_split\n"
   ]
  },
  {
   "cell_type": "code",
   "execution_count": 4,
   "id": "7daad46d",
   "metadata": {},
   "outputs": [],
   "source": [
    "'''Carga del dataset con el delimitador punto y coma.'''\n",
    "df = pd.read_csv('Car_Prices_Dataset.csv', sep=';')"
   ]
  },
  {
   "cell_type": "code",
   "execution_count": 5,
   "id": "e7a4a7ec",
   "metadata": {},
   "outputs": [
    {
     "data": {
      "text/html": [
       "<div>\n",
       "<style scoped>\n",
       "    .dataframe tbody tr th:only-of-type {\n",
       "        vertical-align: middle;\n",
       "    }\n",
       "\n",
       "    .dataframe tbody tr th {\n",
       "        vertical-align: top;\n",
       "    }\n",
       "\n",
       "    .dataframe thead th {\n",
       "        text-align: right;\n",
       "    }\n",
       "</style>\n",
       "<table border=\"1\" class=\"dataframe\">\n",
       "  <thead>\n",
       "    <tr style=\"text-align: right;\">\n",
       "      <th></th>\n",
       "      <th>Age</th>\n",
       "      <th>KM</th>\n",
       "      <th>Weight</th>\n",
       "      <th>HP</th>\n",
       "      <th>MetColor</th>\n",
       "      <th>CC</th>\n",
       "      <th>Doors</th>\n",
       "      <th>Price</th>\n",
       "    </tr>\n",
       "  </thead>\n",
       "  <tbody>\n",
       "    <tr>\n",
       "      <th>1277</th>\n",
       "      <td>71.0</td>\n",
       "      <td>74000</td>\n",
       "      <td>1050.0</td>\n",
       "      <td>110</td>\n",
       "      <td>0</td>\n",
       "      <td>1600.0</td>\n",
       "      <td>3</td>\n",
       "      <td>7750</td>\n",
       "    </tr>\n",
       "    <tr>\n",
       "      <th>1135</th>\n",
       "      <td>77.0</td>\n",
       "      <td>105152</td>\n",
       "      <td>1015.0</td>\n",
       "      <td>86</td>\n",
       "      <td>0</td>\n",
       "      <td>1300.0</td>\n",
       "      <td>3</td>\n",
       "      <td>6750</td>\n",
       "    </tr>\n",
       "    <tr>\n",
       "      <th>435</th>\n",
       "      <td>47.0</td>\n",
       "      <td>78785</td>\n",
       "      <td>1119.0</td>\n",
       "      <td>110</td>\n",
       "      <td>1</td>\n",
       "      <td>1600.0</td>\n",
       "      <td>5</td>\n",
       "      <td>11500</td>\n",
       "    </tr>\n",
       "    <tr>\n",
       "      <th>942</th>\n",
       "      <td>58.0</td>\n",
       "      <td>54000</td>\n",
       "      <td>1035.0</td>\n",
       "      <td>86</td>\n",
       "      <td>0</td>\n",
       "      <td>1300.0</td>\n",
       "      <td>5</td>\n",
       "      <td>7350</td>\n",
       "    </tr>\n",
       "    <tr>\n",
       "      <th>119</th>\n",
       "      <td>13.0</td>\n",
       "      <td>57037</td>\n",
       "      <td>1115.0</td>\n",
       "      <td>110</td>\n",
       "      <td>0</td>\n",
       "      <td>1600.0</td>\n",
       "      <td>5</td>\n",
       "      <td>18950</td>\n",
       "    </tr>\n",
       "    <tr>\n",
       "      <th>1022</th>\n",
       "      <td>65.0</td>\n",
       "      <td>33000</td>\n",
       "      <td>1050.0</td>\n",
       "      <td>110</td>\n",
       "      <td>0</td>\n",
       "      <td>1600.0</td>\n",
       "      <td>3</td>\n",
       "      <td>10450</td>\n",
       "    </tr>\n",
       "    <tr>\n",
       "      <th>245</th>\n",
       "      <td>42.0</td>\n",
       "      <td>55968</td>\n",
       "      <td>1050.0</td>\n",
       "      <td>110</td>\n",
       "      <td>0</td>\n",
       "      <td>1600.0</td>\n",
       "      <td>3</td>\n",
       "      <td>11950</td>\n",
       "    </tr>\n",
       "    <tr>\n",
       "      <th>616</th>\n",
       "      <td>59.0</td>\n",
       "      <td>144521</td>\n",
       "      <td>1135.0</td>\n",
       "      <td>72</td>\n",
       "      <td>1</td>\n",
       "      <td>2000.0</td>\n",
       "      <td>5</td>\n",
       "      <td>6900</td>\n",
       "    </tr>\n",
       "    <tr>\n",
       "      <th>611</th>\n",
       "      <td>59.0</td>\n",
       "      <td>154783</td>\n",
       "      <td>1120.0</td>\n",
       "      <td>72</td>\n",
       "      <td>1</td>\n",
       "      <td>2000.0</td>\n",
       "      <td>3</td>\n",
       "      <td>7750</td>\n",
       "    </tr>\n",
       "    <tr>\n",
       "      <th>533</th>\n",
       "      <td>53.0</td>\n",
       "      <td>47451</td>\n",
       "      <td>1055.0</td>\n",
       "      <td>110</td>\n",
       "      <td>1</td>\n",
       "      <td>1600.0</td>\n",
       "      <td>3</td>\n",
       "      <td>12950</td>\n",
       "    </tr>\n",
       "  </tbody>\n",
       "</table>\n",
       "</div>"
      ],
      "text/plain": [
       "       Age      KM  Weight   HP  MetColor      CC  Doors  Price\n",
       "1277  71.0   74000  1050.0  110         0  1600.0      3   7750\n",
       "1135  77.0  105152  1015.0   86         0  1300.0      3   6750\n",
       "435   47.0   78785  1119.0  110         1  1600.0      5  11500\n",
       "942   58.0   54000  1035.0   86         0  1300.0      5   7350\n",
       "119   13.0   57037  1115.0  110         0  1600.0      5  18950\n",
       "1022  65.0   33000  1050.0  110         0  1600.0      3  10450\n",
       "245   42.0   55968  1050.0  110         0  1600.0      3  11950\n",
       "616   59.0  144521  1135.0   72         1  2000.0      5   6900\n",
       "611   59.0  154783  1120.0   72         1  2000.0      3   7750\n",
       "533   53.0   47451  1055.0  110         1  1600.0      3  12950"
      ]
     },
     "execution_count": 5,
     "metadata": {},
     "output_type": "execute_result"
    }
   ],
   "source": [
    "'''Observamos los datos.'''\n",
    "df.sample(10)"
   ]
  },
  {
   "cell_type": "code",
   "execution_count": 6,
   "id": "d5d2b2c6",
   "metadata": {},
   "outputs": [
    {
     "data": {
      "text/plain": [
       "(1435, 8)"
      ]
     },
     "execution_count": 6,
     "metadata": {},
     "output_type": "execute_result"
    }
   ],
   "source": [
    "'''Analizamos la forma del dataframe, es decir cuantos datos posee, y cuantas columnas.\n",
    "Para este dataset se tiene un total de 8 caracteristicas y una columna target.'''\n",
    "df.shape"
   ]
  },
  {
   "cell_type": "code",
   "execution_count": 7,
   "id": "33f5be2a",
   "metadata": {
    "ExecuteTime": {
     "end_time": "2022-04-25T07:21:39.020596Z",
     "start_time": "2022-04-25T07:21:39.005596Z"
    }
   },
   "outputs": [],
   "source": [
    "'''Analizamos la forma del dataframe, es decir cuantos datos posee, y cuantas columnas.\n",
    "Para este dataset se tiene un total de 8 caracteristicas y una columna target.'''\n",
    "feature_names= ['Age', 'KM', 'Weight', 'HP', 'MetColor', 'CC', 'Doors']\n",
    "target_name=['Price']\n",
    "X = df[feature_names].values\n",
    "y = df[target_name].values"
   ]
  },
  {
   "cell_type": "code",
   "execution_count": 8,
   "id": "a2e675b3",
   "metadata": {},
   "outputs": [
    {
     "name": "stdout",
     "output_type": "stream",
     "text": [
      "[[2.3000e+01 4.6986e+04 1.1650e+03 ... 1.0000e+00 2.0000e+03 3.0000e+00]\n",
      " [2.3000e+01 7.2937e+04 1.1650e+03 ... 1.0000e+00 2.0000e+03 3.0000e+00]\n",
      " [2.4000e+01 4.1711e+04 1.1650e+03 ... 1.0000e+00 2.0000e+03 3.0000e+00]\n",
      " ...\n",
      " [7.1000e+01 1.7016e+04 1.0150e+03 ... 0.0000e+00 1.3000e+03 3.0000e+00]\n",
      " [7.0000e+01 1.6916e+04 1.0150e+03 ... 1.0000e+00 1.3000e+03 3.0000e+00]\n",
      " [7.6000e+01 1.0000e+00 1.1140e+03 ... 0.0000e+00 1.6000e+03 5.0000e+00]] [[13500]\n",
      " [13750]\n",
      " [13950]\n",
      " ...\n",
      " [ 8500]\n",
      " [ 7250]\n",
      " [ 6950]]\n"
     ]
    }
   ],
   "source": [
    "'''Observamos las variables creadas.'''\n",
    "print(X,y)"
   ]
  },
  {
   "cell_type": "code",
   "execution_count": 9,
   "id": "136824f5",
   "metadata": {},
   "outputs": [],
   "source": [
    "'''Estandarización de la data.'''\n",
    "from sklearn.preprocessing import StandardScaler\n",
    "VariablesEntradaScaler=StandardScaler()\n",
    "VariableObjetivoScaler=StandardScaler()"
   ]
  },
  {
   "cell_type": "code",
   "execution_count": 10,
   "id": "2b61776b",
   "metadata": {},
   "outputs": [],
   "source": [
    "'''Almacenamiento del objeto de ajuste para referencia posterior.'''\n",
    "VariablesEntradaFit=VariablesEntradaScaler.fit(X)\n",
    "VariableObjetivoFit=VariableObjetivoScaler.fit(y)"
   ]
  },
  {
   "cell_type": "code",
   "execution_count": 11,
   "id": "dd9b282d",
   "metadata": {},
   "outputs": [],
   "source": [
    "'''Generación de los valores estandarizados de X e y.'''\n",
    "X=VariablesEntradaFit.transform(X)\n",
    "y=VariableObjetivoFit.transform(y)"
   ]
  },
  {
   "cell_type": "code",
   "execution_count": null,
   "id": "5eed0aba",
   "metadata": {},
   "outputs": [],
   "source": [
    "'''Código que realice la división en entrenamiento y test, de acuerdo con la estretgia de evaluación planeada.'''\n",
    "X_train, X_test, y_train, y_test = train_test_split(X,y, test_size=0.3, random_state=109)"
   ]
  }
 ],
 "metadata": {
  "kernelspec": {
   "display_name": "Python 3 (ipykernel)",
   "language": "python",
   "name": "python3"
  },
  "language_info": {
   "codemirror_mode": {
    "name": "ipython",
    "version": 3
   },
   "file_extension": ".py",
   "mimetype": "text/x-python",
   "name": "python",
   "nbconvert_exporter": "python",
   "pygments_lexer": "ipython3",
   "version": "3.9.12"
  },
  "toc": {
   "base_numbering": 1,
   "nav_menu": {},
   "number_sections": true,
   "sideBar": true,
   "skip_h1_title": true,
   "title_cell": "Tabla de Contenido",
   "title_sidebar": "Contenido",
   "toc_cell": false,
   "toc_position": {
    "height": "calc(100% - 180px)",
    "left": "10px",
    "top": "150px",
    "width": "263.591px"
   },
   "toc_section_display": true,
   "toc_window_display": true
  }
 },
 "nbformat": 4,
 "nbformat_minor": 5
}
